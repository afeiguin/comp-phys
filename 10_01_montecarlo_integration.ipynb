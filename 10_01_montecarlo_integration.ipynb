{
 "cells": [
  {
   "cell_type": "markdown",
   "metadata": {},
   "source": [
    "Monte Carlo integration\n",
    "=======================\n",
    "\n",
    "Imagine that we want to measure the area of a pond with arbitrary shape.\n",
    "Suppose that this pond is in the middle of a field with known area $A$.\n",
    "If we throw $N$ stones randomly, such that they land within the\n",
    "boundaries of the field, and we count the number of stones that fall in\n",
    "the pond $N_{in}$, the area of the pond will be approximately\n",
    "proportional to the fraction of stones that make a splash, multiplied by\n",
    "$A$: $$A_{pond}=\\frac{N_{in}}{N}A.$$ This simple procedure is an example\n",
    "of the “Monte Carlo” method.\n",
    "\n",
    "Simple Monte Carlo integration\n",
    "------------------------------\n",
    "\n",
    "More generaly, imagine a rectangle of height $H$ in the integration\n",
    "interval $[a,b]$, such that the function $f(x)$ is within its\n",
    "boundaries. Compute $n$ pairs of random numbers $(x_i,y_i)$ such that\n",
    "they are uniformly distributed inside this rectangle. The fraction of\n",
    "points that fall within the area contained below $f(x)$, <span>*i.\n",
    "e.*</span>, that satisfy $y_i \\leq f(x_i)$ is an estimate of the ratio o\n",
    "fthe integral of $f(x)$ and the area of the rectangle. Hence, the\n",
    "estimate of the integral will be given by:\n",
    "$$\\int _a^b{f(x)dx} \\simeq I(N) = \\frac{N_{in}}{N}H(b-a).\n",
    "$$\n",
    "\n",
    "Another Monte Carlo procedure is based on the definition:\n",
    "$$\\langle f \\rangle=\\frac{1}{(b-a)} \\int _a^b{f(x)dx}.\n",
    "$$ In order to determine this average, we sample the\n",
    "value of $f(x)$:\n",
    "$$\\langle f \\rangle \\simeq \\frac{1}{N}\\sum_{i=1}^{N}f(x_i),$$ where the\n",
    "$N$ values $x_i$ are distributed unformly in the interval $[a,b]$. The\n",
    "integral will be given by $$I(N)=(b-a) \\langle f \\rangle .$$\n",
    "Monte Carlo error analysis\n",
    "--------------------------\n",
    "\n",
    "The Monte Carlo method clearly yields approximate results. The accuracy\n",
    "deppends on the number of values $N$ that we use for the average. A\n",
    "possible measure of the error is the “variance” $\\sigma^2$ defined by:\n",
    "$$\\sigma ^2=\\langle f^2 \\rangle - \\langle f \\rangle ^2,\n",
    "$$ where\n",
    "$$\\langle f \\rangle = \\frac{1}{N} \\sum_{i=1}^N f(x_i)$$ and\n",
    "$$\\langle f^2 \\rangle = \\frac{1}{N} \\sum_{i=1}^{N} f(x_i)^2.$$ The\n",
    "“standard deviation” is $\\sigma$. However, we should expect that the\n",
    "error decreases with the number of points $N$, and the quantity $\\sigma$\n",
    "defines by (\\[mc\\_sigma\\]) does not. Hence, this cannot be a good\n",
    "measure of the error.\n",
    "\n",
    "Imagine that we perform several measurements of the integral, each of\n",
    "them yielding a result $I_n$. These values have been obtained with\n",
    "different sequences of $N$ random numbers. According to the central\n",
    "limit theorem, these values whould be normally dstributed around a mean\n",
    "$\\langle I\n",
    "\\rangle$. Suppouse that we have a set of $M$ of such measurements\n",
    "${I_n}$. A convenient measure of the differences of these measurements\n",
    "is the “standard deviation of the means” $\\sigma_M$:\n",
    "$$\\sigma_M ^2=\\langle I^2 \\rangle - \\langle I \\rangle ^2,\n",
    "$$ where\n",
    "$$\\langle I \\rangle = \\frac{1}{M} \\sum_{n=1}^M I_n$$ and\n",
    "$$\\langle I^2 \\rangle = \\frac{1}{M} \\sum_{n=1}^{M} I_n^2.$$ \n",
    "It can be proven that\n",
    "$$\\sigma_M \\approx \\sigma/\\sqrt{N}.\n",
    "$$ This relation becomes exact in the limit of a very\n",
    "large number of measurements. Note that this expression implies that the\n",
    "error decreases with the square root of the number of trials, meaning\n",
    "that if we want to reduce the error by a factor 10, we need 100 times\n",
    "more points for the average.\n",
    "\n",
    "### Exercise 10.1: One dimensional integration \n",
    "\n",
    "1.  Write a program that implements the “hit and miss” Monte Carlo\n",
    "    integration algorithm. Find the estimate $I(N)$ for the integral of\n",
    "    $$f(x)=4\\sqrt{1-x^2}$$ as a function of $N$, in the interval\n",
    "    $(0,1)$. Choose $H=1$, and sample only the $x$-dependent part\n",
    "    $\\sqrt{1-x^2}$, and multiply the result by 4. Calculate the\n",
    "    difference between $I(N)$ and the exact result $\\pi$. This\n",
    "    difference is a measure of the error associated with the Monte\n",
    "    Carlo estimate. Make a log-log plot of the error as a function of\n",
    "    $N$. What is the approximate functional deppendece of the error on\n",
    "    $N$ for large $N$?\n",
    "\n",
    "2.  Estimate the integral of $f(x)$ using the simple Monte Carlo\n",
    "    integration by averaging over $N$ points, using (\\[mc\\_integral2\\]),\n",
    "    and compute the error as a function of $N$, for $N$ upt to 10,000.\n",
    "    Determine the approximate functional deppendence of the error on $N$\n",
    "    for large $N$. How many trials are necessary to determine $I_N$ to\n",
    "    two decimal places?\n",
    "\n",
    "3.  Perform 10 measurements $I_n(N)$, with $N=10,000$ using different\n",
    "    random sequences. Show in a table the values of $I_n$ and $\\sigma$\n",
    "    according to (\\[mc\\_integral2\\]) and (\\[mc\\_sigma\\]).\n",
    "    Use (\\[mc\\_sigmam\\]) to estimate the standard deviation of the\n",
    "    means, and compare to the values obtained from (\\[mc\\_sigma2\\])\n",
    "    using the 100,000 values.\n",
    "\n",
    "4.  To verify that your result for the error is independent of the\n",
    "    number of sets you used to divide your data, repeat the previous\n",
    "    item grouping your results in 20 groups of 5,000 points each.\n",
    "\n",
    "### Exercise 10.2: Importance of randomness \n",
    "\n",
    "To examine the effects of a poor random number generator, modify your\n",
    "program to use the linear congruential random number generator using the\n",
    "perameters $a=5$, $c=0$ and the seed $x_1=1$. Repeat the integral of the\n",
    "previous exercise and compare your results.\n",
    "\n",
    "#### Challenge 10.1: \n",
    "\n",
    "Exercise 10.2\n",
    "\n",
    "\n"
   ]
  },
  {
   "cell_type": "code",
   "execution_count": 1,
   "metadata": {},
   "outputs": [
    {
     "data": {
      "text/plain": [
       "[<matplotlib.lines.Line2D at 0x119211390>]"
      ]
     },
     "execution_count": 1,
     "metadata": {},
     "output_type": "execute_result"
    },
    {
     "data": {
      "image/png": "[encoded data removed]",
      "text/plain": [
       "<Figure size 432x288 with 1 Axes>"
      ]
     },
     "metadata": {
      "needs_background": "light"
     },
     "output_type": "display_data"
    }
   ],
   "source": [
    "%matplotlib inline\n",
    "import numpy as np\n",
    "from matplotlib import pyplot\n",
    "\n",
    "x = np.arange(0,1,0.02)\n",
    "pyplot.plot(x, 4*np.sqrt(1-x**2))"
   ]
  },
  {
   "cell_type": "code",
   "execution_count": 2,
   "metadata": {},
   "outputs": [
    {
     "name": "stdout",
     "output_type": "stream",
     "text": [
      "100 82 3.28 0.1384073464102067\n",
      "200 163 3.26 0.11840734641020667\n",
      "400 306 3.06 0.08159265358979306\n",
      "800 621 3.105 0.036592653589793134\n",
      "1600 1265 3.1625 0.020907346410206973\n",
      "3200 2527 3.15875 0.01715734641020683\n",
      "6400 5046 3.15375 0.012157346410206937\n",
      "12800 10077 3.1490625 0.00746984641020676\n",
      "25600 20061 3.13453125 0.007061403589792903\n",
      "51200 40245 3.144140625 0.002547971410206795\n",
      "102400 80438 3.142109375 0.0005167214102068662\n",
      "204800 160702 3.1387109375 0.0028817160897931515\n",
      "409600 321473 3.139384765625 0.0022078879647930982\n",
      "819200 644142 3.145224609375 0.0036319557852069195\n",
      "1638400 1287372 3.142998046875 0.0014053932852067241\n",
      "3276800 2573360 3.14130859375 0.00028405983979329363\n"
     ]
    },
    {
     "data": {
      "image/png": "[encoded data removed]",
      "text/plain": [
       "<Figure size 432x288 with 1 Axes>"
      ]
     },
     "metadata": {
      "needs_background": "light"
     },
     "output_type": "display_data"
    }
   ],
   "source": [
    "\n",
    "# Hit and miss Monte Carlo integration\n",
    "ngroups = 16\n",
    "\n",
    "I = np.zeros(ngroups)\n",
    "N = np.zeros(ngroups)\n",
    "E = np.zeros(ngroups)\n",
    "\n",
    "n0 = 100\n",
    "for i in range(ngroups):\n",
    "\n",
    "    N[i] = n0\n",
    "    x = np.random.random(n0)\n",
    "    y = np.random.random(n0)\n",
    "    I[i] = 0.\n",
    "    Nin = 0\n",
    "    for j in range(n0):\n",
    "        if(y[j] < np.sqrt(1-x[j]**2)):\n",
    "            Nin += 1\n",
    "            \n",
    "    I[i] = 4.*float(Nin)/float(n0)\n",
    "    E[i] = abs(I[i]-np.pi)\n",
    "    print (n0,Nin,I[i],E[i])\n",
    "    n0 *= 2\n",
    "    \n",
    "            \n",
    "pyplot.plot(N,E,ls='-',c='red',lw=3);\n",
    "pyplot.plot(N,0.8/np.sqrt(N),ls='-',c='blue',lw=3);\n",
    "\n",
    "pyplot.xscale('log')\n",
    "pyplot.yscale('log')"
   ]
  },
  {
   "cell_type": "code",
   "execution_count": 3,
   "metadata": {},
   "outputs": [
    {
     "name": "stdout",
     "output_type": "stream",
     "text": [
      "100 3.083548695053129 0.05804395853666433\n",
      "200 3.0169076292704244 0.12468502431936868\n",
      "400 3.1806738953569527 0.03908124176715955\n",
      "800 3.116184732780529 0.025407920809263906\n",
      "1600 3.174486501377891 0.03289384778809801\n",
      "3200 3.1495504408897914 0.007957787299998298\n",
      "6400 3.14574823312641 0.004155579536616827\n",
      "12800 3.1349325642964856 0.006660089293307525\n",
      "25600 3.1435910835455867 0.001998429955793579\n",
      "51200 3.1387551229509194 0.0028375306388737087\n",
      "102400 3.1403323363592297 0.0012603172305634125\n",
      "204800 3.139379645209978 0.0022130083798153066\n",
      "409600 3.1408746244781374 0.0007180291116557491\n",
      "819200 3.142975298734189 0.0013826451443956778\n",
      "1638400 3.1414994374643403 9.321612545276636e-05\n",
      "3276800 3.14129904834528 0.0002936052445132731\n"
     ]
    },
    {
     "data": {
      "image/png": "[encoded data removed]",
      "text/plain": [
       "<Figure size 432x288 with 1 Axes>"
      ]
     },
     "metadata": {
      "needs_background": "light"
     },
     "output_type": "display_data"
    }
   ],
   "source": [
    "# Simple Monte Carlo Integration\n",
    "ngroups = 16\n",
    "\n",
    "I = np.zeros(ngroups)\n",
    "N = np.zeros(ngroups)\n",
    "E = np.zeros(ngroups)\n",
    "\n",
    "n0 = 100\n",
    "for i in range(ngroups):\n",
    "\n",
    "    N[i] = n0\n",
    "    r = np.random.random(n0)\n",
    "    I[i] = 0.\n",
    "    for j in range(n0):\n",
    "        x = r[j]\n",
    "        I[i] += np.sqrt(1-x**2)\n",
    "        \n",
    "    I[i] *= 4./float(n0)\n",
    "    E[i] = abs(I[i]-np.pi)\n",
    "    print (n0,I[i],E[i])\n",
    "    n0 *= 2\n",
    "    \n",
    "            \n",
    "pyplot.plot(N,E,ls='-',c='red',lw=3);\n",
    "pyplot.plot(N,0.8/np.sqrt(N),ls='-',c='blue',lw=3);\n",
    "pyplot.xscale('log')\n",
    "pyplot.yscale('log')"
   ]
  },
  {
   "cell_type": "code",
   "execution_count": 5,
   "metadata": {},
   "outputs": [
    {
     "name": "stdout",
     "output_type": "stream",
     "text": [
      "3.1457636696861324 10.69446669333447 0.7986376278173068\n",
      "3.1372366968536767 10.639779583215944 0.7975254911305765\n",
      "3.150995532231518 10.719719006029514 0.7909461618865272\n",
      "3.1430803624629067 10.687552183237157 0.8085980183372001\n",
      "3.1549093390648597 10.725146283018782 0.7716933453001129\n",
      "3.1524565362061563 10.719672155349185 0.7816899426802681\n",
      "3.128145606617917 10.599685249016789 0.8143903128138117\n",
      "3.1384054020541434 10.645817378212246 0.7962289105696172\n",
      "3.1445580189862543 10.683852412854495 0.7956072780837395\n",
      "3.1332986511743366 10.615776688479952 0.7982162510290358\n",
      "=============================\n",
      "3.136743104879589 10.660760589836224 0.8216032838265797\n",
      "3.154784234492714 10.728172796832657 0.7755092306288791\n",
      "3.1387311928691286 10.653576800128173 0.8019432990385091\n",
      "3.135742200838215 10.625982366303749 0.7931032161860561\n",
      "3.143268496642032 10.687526668004205 0.8073898260219465\n",
      "3.158722567820987 10.751911344054774 0.7743830835931629\n",
      "3.1415836052163484 10.683297105508757 0.8137495569446074\n",
      "3.1445771197094867 10.691807260965554 0.8034419991651429\n",
      "3.1845050824958947 10.884185738328162 0.7431131178859758\n",
      "3.125313595633803 10.566106827709524 0.798521756656033\n",
      "3.1575195303371184 10.73188976937331 0.761960184912974\n",
      "3.1473935420752115 10.70745454132511 0.8013684326283634\n",
      "3.124137415684765 10.567418034780752 0.8071834426992712\n",
      "3.1321537975510703 10.631952463252777 0.821565051739185\n",
      "3.1296417982029836 10.57924507556743 0.7845872905082256\n",
      "3.1471690059053077 10.712389680857035 0.8077169291260322\n",
      "3.143595399324597 10.681346784020045 0.7991547493652735\n",
      "3.145520638647886 10.68635804168898 0.7920579535291754\n",
      "3.1259537277454843 10.587599370989583 0.8160126629836935\n",
      "3.1406435746031978 10.643954005970329 0.7803119432739773\n",
      "=============================\n",
      "3.1428849815338245 10.673146763274831 0.7954207561239635\n"
     ]
    }
   ],
   "source": [
    "n0 = 100000\n",
    "I = np.zeros(n0)\n",
    "r = np.random.random(n0)\n",
    "for j in range(n0):\n",
    "    x = r[j]\n",
    "    I[j] = 4*np.sqrt(1-x**2)\n",
    "\n",
    "def group_measurements(ngroups):\n",
    "    global I,n0\n",
    "    \n",
    "    nmeasurements = n0//ngroups\n",
    "    for n in range(ngroups):\n",
    "        Ig = 0.\n",
    "        Ig2 = 0.\n",
    "        for i in range(n*nmeasurements,(n+1)*nmeasurements):\n",
    "            Ig += I[i]\n",
    "            Ig2 += I[i]**2\n",
    "        Ig /= nmeasurements\n",
    "        Ig2 /= nmeasurements\n",
    "        sigma = Ig2-Ig**2\n",
    "        print(Ig,Ig2,sigma)\n",
    "        \n",
    "group_measurements(10)\n",
    "print(\"=============================\")\n",
    "group_measurements(20)\n",
    "print(\"=============================\")\n",
    "group_measurements(1)\n",
    "\n",
    "\n"
   ]
  },
  {
   "cell_type": "markdown",
   "metadata": {},
   "source": [
    "Variance reduction\n",
    "------------------\n",
    "\n",
    "If the function being integrated does not fluctuate too much in the\n",
    "interval of integration, and does not differ much from the average\n",
    "value, then the standard Monte Carlo mean-value method should work well\n",
    "with a reasonable number of points. Otherwise, we will find that the\n",
    "variance is very large, meaning that some points will make small\n",
    "contributions, while others will make large contributions to the\n",
    "integral. If this is the case, the algorithm will be very inefficient.\n",
    "The method can be improved by splitting the function $f(x)$ in two\n",
    "$f(x)=f_1(x)+f_2(x)$, such that the integral of $f_1(x)$ is known, and\n",
    "$f_2(x)$ as a small variance. The “variance reduction” technique,\n",
    "consists then in evaluating the integral of $f_2(x)$ to obtain:\n",
    "$$\\int _a^b{f(x)dx}=\\int _a^b {f_1(x)dx} + \\int _a^b{f_2(x)dx} = \\int\n",
    "_a^b{f_1(x)dx}+J.$$\n",
    "\n",
    "Importance Sampling\n",
    "-------------------\n",
    "\n",
    "Imagine that we want to sample the function $f(x)=e^{-x^2}$ in the\n",
    "interval $[0,1]$. It is evident that most of our points will fall in the\n",
    "region where the value of $f(x)$ is very small, and therefore we will\n",
    "need a large number of values to achieve a decent accuracy. A way to\n",
    "improve the measurement by reducing the variance is obtained by\n",
    "“importance sampling”. As the name says, the idea is to sample the\n",
    "regions with larger contributions to the integral. For this goal, we\n",
    "introduce a probability distribution $P(x)$ normalized in the interval\n",
    "of integration $$\\int _a^b{P(x)dx} = 1.$$ Then, we can rewrite the\n",
    "integral of $f(x)$ as $$I=\\int _a^b{\\frac{f(x)}{P(x)}P(x)dx}\n",
    "$$ We can evaluate this integral, by sampling\n",
    "according to the probability distribution $P(x)$ and evaluating the sum\n",
    "$$I(N)=\\frac{1}{N} \\sum_{i=1}^N \\frac{f(x_i)}{P(x_i)}.\n",
    "$$ Note that for the uniform case $P(x)=1/(b-a)$, the\n",
    "expression reduces to the simple Monte Carlo integral.\n",
    "\n",
    "We are free to choose $P(x)$ now. We wish to do it in a way to reduce\n",
    "and minimize the variance of the integrand $f(x)/P(x)$. The way to to\n",
    "this is picking a $P(x)$ that mimics $f(x)$ where $f(x)$ is large. if we\n",
    "are able to determine an apropiate $P(x)$, the integrand will be slowly\n",
    "varying, and hence the variance will be reduced. Another consideration\n",
    "is that the generation of points according to the distribution $P(x)$\n",
    "should be a simple task. As an example, let us consider again the\n",
    "integral $$I=\\int _0^1 {e^{-x^2}dx}.$$ A reasonable choice for a weigh\n",
    "function is $P(x)=Ae^{-x}$, where $A$ is a normalization constant.\n",
    "\n",
    "Notice that for $P(x)=f(x)$ the variance is zero! This is known as the\n",
    "zero variance property. There is a catch, though: The probability function\n",
    "$P(x)$ needs to be normalized, implying that in reality, $P(x)=f(x)/\\int f(x)dx$, which\n",
    "assumes that we know in advance precisely the integral that we are trying to calculate!\n",
    "\n",
    "### Exercise 10.3: Importance sampling \n",
    "\n",
    "1.  Choose the weight function $P(x)=e^{-x}$ and evaluate the integral:\n",
    "    $$\\int _0^{\\infty} {x^{3/2}e^{-x}dx}.$$\n",
    "\n",
    "2.  Choose $P(x)=e^{-ax}$ and estimate the integral\n",
    "    $$\\int _0^{\\pi} \\frac{dx}{x^2+\\cos ^2{x}}.$$ Determine the value of\n",
    "    $a$ that minimizes the variance of the integral.\n",
    "\n"
   ]
  },
  {
   "cell_type": "code",
   "execution_count": 16,
   "metadata": {},
   "outputs": [
    {
     "data": {
      "image/png": "[encoded data removed]",
      "text/plain": [
       "<matplotlib.figure.Figure at 0x102408cd0>"
      ]
     },
     "metadata": {},
     "output_type": "display_data"
    }
   ],
   "source": [
    "pyplot.xlim(0,10)\n",
    "x = np.arange(0,10,0.1)\n",
    "pyplot.plot(x,np.exp(-x));\n",
    "pyplot.plot(x,np.exp(-x**2));\n",
    "pyplot.plot(x,x**1.5*np.exp(-x));"
   ]
  },
  {
   "cell_type": "code",
   "execution_count": 9,
   "metadata": {},
   "outputs": [
    {
     "name": "stdout",
     "output_type": "stream",
     "text": [
      "Trapezoids:  1.3293401896452883\n",
      "Simple Monte Carlo:  0.20055243365045128\n",
      "Importance Sampling:  1.3288525836135752\n"
     ]
    }
   ],
   "source": [
    "\n",
    "# Trapezoidal integration\n",
    "def trapezoids(func, xmin, xmax, nmax):\n",
    "    Isim = func(xmin)+func(xmax)\n",
    "    h = (xmax-xmin)/nmax\n",
    "    for i in range(1,nmax):\n",
    "        x = xmin+i*h\n",
    "        Isim += 2*func(x)\n",
    "\n",
    "    Isim *= h/2\n",
    "    return Isim\n",
    "\n",
    "def f(x):\n",
    "    return x**1.5*np.exp(-x)\n",
    "    \n",
    "    \n",
    "print(\"Trapezoids: \", trapezoids(f, 0., 20., 100000))\n",
    "\n",
    "# Simple Monte Carlo integration\n",
    "n0 = 1000000\n",
    "r = np.random.random(n0)\n",
    "\n",
    "Itot = np.sum(r**1.5*np.exp(-r))\n",
    "print(\"Simple Monte Carlo: \", Itot/n0)\n",
    "\n",
    "x = -np.log(r)\n",
    "Itot = np.sum(x**1.5)\n",
    "print(\"Importance Sampling: \", Itot/n0)"
   ]
  },
  {
   "cell_type": "code",
   "execution_count": 11,
   "metadata": {},
   "outputs": [
    {
     "data": {
      "image/png": "[encoded data removed]",
      "text/plain": [
       "<Figure size 432x288 with 1 Axes>"
      ]
     },
     "metadata": {
      "needs_background": "light"
     },
     "output_type": "display_data"
    }
   ],
   "source": [
    "pyplot.xlim(0,np.pi)\n",
    "x = np.arange(0,np.pi,0.05)\n",
    "pyplot.plot(x,1./(x**2+np.cos(x)**2));\n",
    "pyplot.plot(x,np.exp(-x));\n",
    "pyplot.plot(x,np.exp(-2*x));\n",
    "pyplot.plot(x,np.exp(-0.2*x));"
   ]
  },
  {
   "cell_type": "code",
   "execution_count": 8,
   "metadata": {},
   "outputs": [
    {
     "name": "stdout",
     "output_type": "stream",
     "text": [
      "Trapezoids:  1.5811879708476726\n",
      "Simple Monte Carlo:  1.5815947622343893\n",
      "Importance Sampling:\n",
      "0.1 1.5244330723519488 0.00321381588763609\n",
      "0.2 1.50095680220008 0.0020648357111915415\n",
      "0.30000000000000004 1.4904411006780327 0.0015512787071996397\n",
      "0.4 1.4968606674298741 0.0012547420671273522\n",
      "0.5 1.5146208065214364 0.0010525050870957287\n",
      "0.6 1.5384283496617999 0.0008903917445926586\n",
      "0.7000000000000001 1.5621715230895488 0.0007325196183547532\n",
      "0.8 1.5795007309626732 0.0005398433954381976\n",
      "0.9 1.5848844693695763 0.00018141907194581285\n",
      "1.0 1.5741096356771225 0.0004972401813311438\n",
      "1.1 1.5451370063730057 0.0007367892503514896\n",
      "1.2000000000000002 1.4986266667374715 0.0009147552770853103\n",
      "1.3000000000000003 1.4371939198631032 0.0010517960421495326\n",
      "1.4000000000000001 1.364831049309352 0.0011532665188242917\n",
      "1.5000000000000002 1.2862725322212676 0.0012231156728855844\n",
      "1.6 1.2052048099895123 0.0012636640779222586\n",
      "1.7000000000000002 1.1250482091736054 0.0012800101146486459\n",
      "1.8000000000000003 1.0480214022503385 0.0012761065837385973\n",
      "1.9000000000000001 0.9756899351567899 0.0012583224714410996\n",
      "2.0 0.908556238655731 0.0012275630544004439\n"
     ]
    },
    {
     "data": {
      "image/png": "[encoded data removed]",
      "text/plain": [
       "<Figure size 432x288 with 1 Axes>"
      ]
     },
     "metadata": {
      "needs_background": "light"
     },
     "output_type": "display_data"
    }
   ],
   "source": [
    "# Trapezoidal integration\n",
    "\n",
    "def g(x):\n",
    "    return 1./(x**2+np.cos(x)**2)\n",
    "\n",
    "print(\"Trapezoids: \", trapezoids(g, 0., np.pi, 1000000))\n",
    "\n",
    "# Simple Monte Carlo integration\n",
    "n0 = 1000000\n",
    "a = np.arange(0.1,2.1,0.1)\n",
    "I = np.arange(0.1,2.1,0.1)\n",
    "\n",
    "r = np.random.random(n0)\n",
    "\n",
    "I0 = np.sum(1./((r*np.pi)**2+np.cos(r*np.pi)**2))\n",
    "print(\"Simple Monte Carlo: \", I0/n0*np.pi)\n",
    "\n",
    "# Importance Sampling\n",
    "print(\"Importance Sampling:\")\n",
    "x = -np.log(r)\n",
    "              \n",
    "i = 0\n",
    "for ai in a:\n",
    "    norm = (1.-np.exp(-ai*np.pi))/ai\n",
    "    x1 = norm*x/ai\n",
    "    Itot = 0.\n",
    "    Nin = 0\n",
    "    I2 = 0.\n",
    "    for xi in x1:\n",
    "        if(xi <= np.pi):\n",
    "            Nin += 1\n",
    "            Itot += g(xi)*np.exp(xi*ai)\n",
    "            I2 += (g(xi)*np.exp(xi*ai))**2\n",
    "\n",
    "    Itot *= norm\n",
    "    I2 *= norm\n",
    "\n",
    "    I[i] = Itot/Nin\n",
    "    i += 1\n",
    "    print(ai,Itot/Nin,np.sqrt(abs(Itot**2/Nin**2-I2/Nin))/np.sqrt(Nin))\n",
    "    \n",
    "pyplot.plot(a,I,ls='-',marker='o',c='red',lw=3);\n"
   ]
  },
  {
   "cell_type": "markdown",
   "metadata": {},
   "source": [
    "### Exercise 10.4: The Metropolis algorithm \n",
    "\n",
    "Use the Metropolis algorithm to sample points according to a ditribution\n",
    "and estimate the integral $$\\int _0^4 {x^2e^{-x}dx},$$ with\n",
    "$P(x)=e^{-x}$ for $0 \\leq x \\leq 4$. Plot the number of times the\n",
    "walker is at points $x_0$, $x_1$, $x_2$, ... Is the integrand sampled\n",
    "uniformly? If not, what is the approximate region of $x$ where the\n",
    "integrand is sampled more often?"
   ]
  },
  {
   "cell_type": "code",
   "execution_count": 26,
   "metadata": {},
   "outputs": [
    {
     "name": "stdout",
     "output_type": "stream",
     "text": [
      "('Trapezoids: ', 1.5237933888733828)\n",
      "('Metropolis: ', 1.5251458730929552)\n"
     ]
    },
    {
     "data": {
      "image/png": "[encoded data removed]",
      "text/plain": [
       "<matplotlib.figure.Figure at 0x10b782b10>"
      ]
     },
     "metadata": {},
     "output_type": "display_data"
    }
   ],
   "source": [
    "delta = 2\n",
    "xmin = 0.\n",
    "xmax = 4.\n",
    "\n",
    "def f(x):\n",
    "    return x**2*np.exp(-x)\n",
    "\n",
    "def P(x):\n",
    "    global xmin, xmax\n",
    "    if(x < xmin or x > xmax):\n",
    "        return 0.\n",
    "    return np.exp(-x)\n",
    "\n",
    "\n",
    "def metropolis(xold):\n",
    "    global delta\n",
    "    xtrial = np.random.random()    \n",
    "    xtrial = xold+(2*xtrial-1)*delta\n",
    "    weight = P(xtrial)/P(xold)\n",
    "    xnew = xold\n",
    "    if(weight >= 1): #Accept\n",
    "        xnew = xtrial\n",
    "    elif(weight != 0):\n",
    "        r = np.random.random()\n",
    "        if(r <= weight): #Accept\n",
    "            xnew = xtrial\n",
    "    return xnew\n",
    "\n",
    "\n",
    "xwalker = (xmax+xmin)/2.\n",
    "for i in range(100000):\n",
    "    xwalker = metropolis(xwalker)\n",
    "\n",
    "I0 = 0.\n",
    "N = 300000\n",
    "\n",
    "x = np.zeros(N)\n",
    "\n",
    "x[0] = xwalker\n",
    "for i in range(1,N):\n",
    "    for j in range(20):\n",
    "        xwalker = metropolis(xwalker)\n",
    "    x[i] = xwalker\n",
    "    I0 += x[i]**2\n",
    "\n",
    "binwidth=0.1\n",
    "pyplot.hist(x,bins=np.arange(xmin-1, xmax+1, 0.1),normed=True);\n",
    "\n",
    "print(\"Trapezoids: \", trapezoids(f,xmin,xmax,100000))\n",
    "print(\"Metropolis: \", I0*(1.-np.exp(-4.))/N)"
   ]
  },
  {
   "cell_type": "code",
   "execution_count": 23,
   "metadata": {},
   "outputs": [
    {
     "data": {
      "image/png": "[encoded data removed]",
      "text/plain": [
       "<matplotlib.figure.Figure at 0x106da8710>"
      ]
     },
     "metadata": {},
     "output_type": "display_data"
    }
   ],
   "source": [
    "pyplot.hist(x**2,bins=np.arange(xmin**2-1, xmax**2+1, 0.1),normed=True);\n",
    "\n"
   ]
  },
  {
   "cell_type": "markdown",
   "metadata": {},
   "source": [
    "#### Challenge 10.1\n",
    "\n",
    "- Calculate the integral $\\int_0^1 x^2 dx=1/3$ using simple MC integration and importance sampling with $P(x)=x$.\n",
    "\n",
    "- Calculate the integral $\\int_0^1 \\sqrt{x}dx=2/3$ using simple MC integration and $P(x)=1-e^{-ax}$. Find the values of $a$ that minimizes the variance."
   ]
  },
  {
   "cell_type": "code",
   "execution_count": null,
   "metadata": {
    "collapsed": true
   },
   "outputs": [],
   "source": []
  }
 ],
 "metadata": {
  "kernelspec": {
   "display_name": "Python 3",
   "language": "python",
   "name": "python3"
  },
  "language_info": {
   "codemirror_mode": {
    "name": "ipython",
    "version": 3
   },
   "file_extension": ".py",
   "mimetype": "text/x-python",
   "name": "python",
   "nbconvert_exporter": "python",
   "pygments_lexer": "ipython3",
   "version": "3.7.2"
  }
 },
 "nbformat": 4,
 "nbformat_minor": 1
}
