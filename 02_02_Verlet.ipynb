{
 "cells": [
  {
   "cell_type": "markdown",
   "metadata": {},
   "source": [
    "# Verlet Algorithm\n",
    "\n",
    "In molecular dynamics, the most commonly used time integration algorithm is probably the so-called Verlet algorithm [L. Verlet, Computer experiments on classical fluids. I. Thermodynamical properties of Lennard-Jones molecules, Physical Review 159, 98 (1967)]. The basic idea is to write two third-order Taylor expansions for the positions ${\\bf r} (t)$, one forward and one backward in time. Calling $\\bf v$ the velocities, $\\bf a$ the accelerations, and $\\bf b$ the third derivatives of ${\\bf r}$ with respect to $t$, one has:\n",
    "$$\\begin{equation}\n",
    "{\\bf r} (t+\\Delta t) = {\\bf r} (t) + {\\bf v} (t) \\Delta t + \\frac{1}{2} {\\bf a}(t) \\Delta t^2 + (1/6) {\\bf b} (t) \\Delta t^3\n",
    " + O(\\Delta t^4) \\end{equation}\n",
    "$$\n",
    "$$\n",
    "\\begin{equation}\n",
    "{\\bf r} (t-\\Delta t) = {\\bf r} (t) - {\\bf v} (t) \\Delta t + \\frac{1}{2} {\\bf a}(t) \\Delta t^2 - (1/6) {\\bf b} (t) \\Delta t^3\n",
    " + O(\\Delta t^4) \\end{equation}\n",
    "$$\n",
    "Adding the two expressions gives\n",
    "$$\\begin{equation}\n",
    "{\\bf r} (t+\\Delta t) = 2{\\bf r} (t) - {\\bf r} (t-\\Delta t)\n",
    " + {\\bf a} (t) \\Delta t^2 + O(\\Delta t^4) \\end{equation}\t\n",
    "$$\n",
    "This is the basic form of the Verlet algorithm. Since we are integrating Newton's equations, ${\\bf a} (t)$ is just the force divided by the mass, and the force is in turn a function of the positions ${\\bf r} (t)$:\n",
    "$$\\begin{equation}\n",
    "{\\bf a} (t) = - \\frac{1}{m} {\\bf\\nabla} V\\left( {\\bf r}(t) \\right) \\end{equation}\t\n",
    "$$\n",
    "As one can immediately see, the truncation error of the algorithm when evolving the system by $\\Delta t$ is of the order of  $\\Delta t^4$, even if third derivatives do not appear explicitly. This algorithm is at the same time simple to implement, accurate and stable, explaining its large popularity among molecular dynamics simulators.\n",
    "\n",
    "While the velocities are not needed for the time evolution, their knowledge is sometimes necessary. Moreover, they are required to compute the kinetic energy $K$, whose evaluation is necessary to test the conservation of the total energy $E=K+V$. This is one of the most important tests to verify that a MD simulation is proceeding correctly. One could compute the velocities from the positions by subtracting the previous expression to obtain:\n",
    "\n",
    "$$\\begin{equation}\n",
    "{\\bf v} (t) = \\frac { {\\bf r}(t+\\Delta t) - {\\bf r}(t-\\Delta t) }\n",
    " { 2 \\Delta t } . \\end{equation}\n",
    "$$\n",
    "However, the error associated to this expression is of order $\\Delta t^2$ rather than $\\Delta t^4$.\n",
    "\n",
    "The main problem with the Verlet algorithm is that it is not self starting, and the first step needs to be computed by different means. An additional problem is that the new velocity is found by computing the difference between two quantities of the same order of magnitude. When using computers which always operate with finite numerical precision, such an operation results in a loss of numerical precision and may give rise to substantial roundoff error.\n",
    "\n",
    "An even better implementation of the same basic algorithm is the so-called \"**velocity Verlet scheme**\", where positions, velocities and accelerations at time $t+\\Delta t$ are obtained from the same quantities at time $t$ in the following way:\n",
    "\n",
    "$$\\begin{eqnarray}\n",
    "{\\bf r} (t + \\Delta t) &=& {\\bf r} (t) + {\\bf v} (t) \\Delta t + (1/2) {\\bf a} (t) \\Delta t^2 \\\\\n",
    "{\\bf v} (t + \\Delta t/2) &=& {\\bf v} (t) + (1/2) {\\bf a} (t) \\Delta t \\\\\n",
    "{\\bf a} (t + \\Delta t) &=& - (1/m) {\\bf\\nabla} V \\left( {\\bf r}(t+\\Delta t) \\right) \\\\ \n",
    "{\\bf v} (t + \\Delta t) &=& {\\bf v} (t + \\Delta t/2) + (1/2) {\\bf a} (t + \\Delta t) \\Delta t \n",
    "\\end{eqnarray}$$\n",
    "\n",
    "Note how we need $9N$ memory locations to save the $3N$ positions, velocities and accelerations, but we never need to have simultaneously stored the values at two different times for any one of these quantities.\n",
    "\n",
    "Here, we modify the code for particle2 implementing velocity Verlet:"
   ]
  },
  {
   "cell_type": "code",
   "execution_count": 2,
   "metadata": {
    "collapsed": true
   },
   "outputs": [],
   "source": [
    "class particle2(object):\n",
    "    \n",
    "    def __init__(self, mass=1., x=0., y=0., vx=0., vy=0.):\n",
    "        self.mass = mass\n",
    "        self.x = x\n",
    "        self.y = y\n",
    "        self.vx = vx\n",
    "        self.vy = vy\n",
    "       \n",
    "    def euler(self, fx, fy, dt):\n",
    "        self.vx = self.vx + fx*dt\n",
    "        self.vy = self.vy + fy*dt\n",
    "        self.x = self.x + self.vx*dt\n",
    "        self.y = self.y + self.vy*dt\n",
    "        \n",
    "    def get_force(self):  # returns force per unit of mass (acceleration)\n",
    "        GM=4*math.pi*math.pi # We use astronomical units\n",
    "        r = math.sqrt(self.x*self.x+self.y*self.y)\n",
    "        r3 = r * r * r\n",
    "        fx = -GM*self.x/r3\n",
    "        fy = -GM*self.y/r3\n",
    "        return (fx,fy)\n",
    "        \n",
    "    def verlet(self, dt):\n",
    "        (fx,fy) = self.get_force() # before I move to the new position\n",
    "        self.x += self.vx*dt + 0.5*fx*dt*dt\n",
    "        self.y += self.vy*dt + 0.5*fy*dt*dt\n",
    "        self.vx += 0.5*fx*dt\n",
    "        self.vy += 0.5*fy*dt\n",
    "        (fx,fy) = self.get_force() # after I move to the new position\n",
    "        self.vx += 0.5*fx*dt\n",
    "        self.vy += 0.5*fy*dt\n",
    "\n"
   ]
  },
  {
   "cell_type": "markdown",
   "metadata": {},
   "source": [
    "### Challenge 2.3:\n",
    "\n",
    "Use velocity verlet to simulate the mini-solar system from Challenge 2.2.\n",
    "Can you come up with a different way to write the algorithm such that you call get_force only once per move?"
   ]
  },
  {
   "cell_type": "code",
   "execution_count": null,
   "metadata": {
    "collapsed": true
   },
   "outputs": [],
   "source": []
  }
 ],
 "metadata": {
  "kernelspec": {
   "display_name": "Python 3",
   "language": "python",
   "name": "python3"
  },
  "language_info": {
   "codemirror_mode": {
    "name": "ipython",
    "version": 3
   },
   "file_extension": ".py",
   "mimetype": "text/x-python",
   "name": "python",
   "nbconvert_exporter": "python",
   "pygments_lexer": "ipython3",
   "version": "3.7.3"
  }
 },
 "nbformat": 4,
 "nbformat_minor": 1
}
